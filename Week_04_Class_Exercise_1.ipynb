{
  "nbformat": 4,
  "nbformat_minor": 0,
  "metadata": {
    "colab": {
      "name": "Week 04 Class - Exercise 1.ipynb",
      "provenance": [],
      "collapsed_sections": [],
      "toc_visible": true,
      "include_colab_link": true
    },
    "kernelspec": {
      "name": "python3",
      "display_name": "Python 3"
    }
  },
  "cells": [
    {
      "cell_type": "markdown",
      "metadata": {
        "id": "view-in-github",
        "colab_type": "text"
      },
      "source": [
        "<a href=\"https://colab.research.google.com/github/ab17254/GV918-Week04/blob/main/Week_04_Class_Exercise_1.ipynb\" target=\"_parent\"><img src=\"https://colab.research.google.com/assets/colab-badge.svg\" alt=\"Open In Colab\"/></a>"
      ]
    },
    {
      "cell_type": "markdown",
      "metadata": {
        "id": "gwL4xynVtpcn"
      },
      "source": [
        "# Description\n",
        "\n",
        "In this exercise, we will use economic growth data taken from AER package in R. https://www.rdocumentation.org/packages/AER/versions/1.2-9/topics/GrowthDJ\n",
        "\n",
        "The purpose of this exercise is to explore the determinant of the **gdpgrowth**.\n"
      ]
    },
    {
      "cell_type": "markdown",
      "metadata": {
        "id": "6o78bcVGsHOM"
      },
      "source": [
        "#### Variables\n",
        "\n",
        "- **oil**: Is the country an oil-producing country?\n",
        "- **inter**: Does the country have better quality data?\n",
        "- **oecd**: Is the country a member of the OECD?\n",
        "- **gdp60**: Per capita GDP in 1960.\n",
        "- **gdp85**: Per capita GDP in 1985.\n",
        "- **gdpgrowth**: Average growth rate of per capita GDP from 1960 to 1985 (in percent).\n",
        "- **popgrowth**: Average growth rate of working-age population 1960 to 1985 (in percent).\n",
        "- **invest**: Average ratio of investment (including Government Investment) to GDP from 1960 to 1985 (in percent).\n",
        "- **school**: Average fraction of working-age population enrolled in secondary school from 1960 to 1985 (in percent).\n"
      ]
    },
    {
      "cell_type": "code",
      "metadata": {
        "id": "OepYUJ0FrVac"
      },
      "source": [
        "url = 'https://vincentarelbundock.github.io/Rdatasets/csv/AER/GrowthDJ.csv'"
      ],
      "execution_count": 2,
      "outputs": []
    },
    {
      "cell_type": "code",
      "metadata": {
        "id": "7ff-t7vYrol1"
      },
      "source": [
        "import pandas as pd\n",
        "import numpy as np"
      ],
      "execution_count": 4,
      "outputs": []
    },
    {
      "cell_type": "markdown",
      "metadata": {
        "id": "X1NW4Hhnujue"
      },
      "source": [
        "# Read the data"
      ]
    },
    {
      "cell_type": "code",
      "metadata": {
        "id": "-WZdU34rkf-o"
      },
      "source": [
        "data_df = pd.read_csv(url)"
      ],
      "execution_count": 12,
      "outputs": []
    },
    {
      "cell_type": "markdown",
      "metadata": {
        "id": "jETT7kI9vgko"
      },
      "source": [
        "# Data wrangling"
      ]
    },
    {
      "cell_type": "markdown",
      "metadata": {
        "id": "-vC4TRVaupdK"
      },
      "source": [
        "#### Check the data dimensionality using `.shape`"
      ]
    },
    {
      "cell_type": "code",
      "metadata": {
        "id": "xY1rzdrGkidc",
        "outputId": "064a7060-29c7-4564-c222-c264bddd00f2",
        "colab": {
          "base_uri": "https://localhost:8080/",
          "height": 35
        }
      },
      "source": [
        "data_df.shape"
      ],
      "execution_count": 7,
      "outputs": [
        {
          "output_type": "execute_result",
          "data": {
            "text/plain": [
              "(121, 11)"
            ]
          },
          "metadata": {
            "tags": []
          },
          "execution_count": 7
        }
      ]
    },
    {
      "cell_type": "markdown",
      "metadata": {
        "id": "oLO_c9P0uuYc"
      },
      "source": [
        "#### How many rows with missing values?\n",
        "\n",
        "- check the funcitonality of `.isna()` and `.dropna()`\n",
        "\n",
        "- `.isna()` - Detect missing values.\n",
        "- `.dropna()` - Omit axes labels with missing values."
      ]
    },
    {
      "cell_type": "code",
      "metadata": {
        "id": "wWyeUjZ5kjzq",
        "outputId": "77c5a099-0d78-42b6-e70f-7199f2adb205",
        "colab": {
          "base_uri": "https://localhost:8080/",
          "height": 407
        }
      },
      "source": [
        "data_df.isna()"
      ],
      "execution_count": 13,
      "outputs": [
        {
          "output_type": "execute_result",
          "data": {
            "text/html": [
              "<div>\n",
              "<style scoped>\n",
              "    .dataframe tbody tr th:only-of-type {\n",
              "        vertical-align: middle;\n",
              "    }\n",
              "\n",
              "    .dataframe tbody tr th {\n",
              "        vertical-align: top;\n",
              "    }\n",
              "\n",
              "    .dataframe thead th {\n",
              "        text-align: right;\n",
              "    }\n",
              "</style>\n",
              "<table border=\"1\" class=\"dataframe\">\n",
              "  <thead>\n",
              "    <tr style=\"text-align: right;\">\n",
              "      <th></th>\n",
              "      <th>Unnamed: 0</th>\n",
              "      <th>oil</th>\n",
              "      <th>inter</th>\n",
              "      <th>oecd</th>\n",
              "      <th>gdp60</th>\n",
              "      <th>gdp85</th>\n",
              "      <th>gdpgrowth</th>\n",
              "      <th>popgrowth</th>\n",
              "      <th>invest</th>\n",
              "      <th>school</th>\n",
              "      <th>literacy60</th>\n",
              "    </tr>\n",
              "  </thead>\n",
              "  <tbody>\n",
              "    <tr>\n",
              "      <th>0</th>\n",
              "      <td>False</td>\n",
              "      <td>False</td>\n",
              "      <td>False</td>\n",
              "      <td>False</td>\n",
              "      <td>False</td>\n",
              "      <td>False</td>\n",
              "      <td>False</td>\n",
              "      <td>False</td>\n",
              "      <td>False</td>\n",
              "      <td>False</td>\n",
              "      <td>False</td>\n",
              "    </tr>\n",
              "    <tr>\n",
              "      <th>1</th>\n",
              "      <td>False</td>\n",
              "      <td>False</td>\n",
              "      <td>False</td>\n",
              "      <td>False</td>\n",
              "      <td>False</td>\n",
              "      <td>False</td>\n",
              "      <td>False</td>\n",
              "      <td>False</td>\n",
              "      <td>False</td>\n",
              "      <td>False</td>\n",
              "      <td>False</td>\n",
              "    </tr>\n",
              "    <tr>\n",
              "      <th>2</th>\n",
              "      <td>False</td>\n",
              "      <td>False</td>\n",
              "      <td>False</td>\n",
              "      <td>False</td>\n",
              "      <td>False</td>\n",
              "      <td>False</td>\n",
              "      <td>False</td>\n",
              "      <td>False</td>\n",
              "      <td>False</td>\n",
              "      <td>False</td>\n",
              "      <td>False</td>\n",
              "    </tr>\n",
              "    <tr>\n",
              "      <th>3</th>\n",
              "      <td>False</td>\n",
              "      <td>False</td>\n",
              "      <td>False</td>\n",
              "      <td>False</td>\n",
              "      <td>False</td>\n",
              "      <td>False</td>\n",
              "      <td>False</td>\n",
              "      <td>False</td>\n",
              "      <td>False</td>\n",
              "      <td>False</td>\n",
              "      <td>True</td>\n",
              "    </tr>\n",
              "    <tr>\n",
              "      <th>4</th>\n",
              "      <td>False</td>\n",
              "      <td>False</td>\n",
              "      <td>False</td>\n",
              "      <td>False</td>\n",
              "      <td>False</td>\n",
              "      <td>False</td>\n",
              "      <td>False</td>\n",
              "      <td>False</td>\n",
              "      <td>False</td>\n",
              "      <td>False</td>\n",
              "      <td>False</td>\n",
              "    </tr>\n",
              "    <tr>\n",
              "      <th>...</th>\n",
              "      <td>...</td>\n",
              "      <td>...</td>\n",
              "      <td>...</td>\n",
              "      <td>...</td>\n",
              "      <td>...</td>\n",
              "      <td>...</td>\n",
              "      <td>...</td>\n",
              "      <td>...</td>\n",
              "      <td>...</td>\n",
              "      <td>...</td>\n",
              "      <td>...</td>\n",
              "    </tr>\n",
              "    <tr>\n",
              "      <th>116</th>\n",
              "      <td>False</td>\n",
              "      <td>False</td>\n",
              "      <td>False</td>\n",
              "      <td>False</td>\n",
              "      <td>False</td>\n",
              "      <td>False</td>\n",
              "      <td>False</td>\n",
              "      <td>False</td>\n",
              "      <td>False</td>\n",
              "      <td>False</td>\n",
              "      <td>False</td>\n",
              "    </tr>\n",
              "    <tr>\n",
              "      <th>117</th>\n",
              "      <td>False</td>\n",
              "      <td>False</td>\n",
              "      <td>False</td>\n",
              "      <td>False</td>\n",
              "      <td>False</td>\n",
              "      <td>True</td>\n",
              "      <td>False</td>\n",
              "      <td>True</td>\n",
              "      <td>False</td>\n",
              "      <td>False</td>\n",
              "      <td>True</td>\n",
              "    </tr>\n",
              "    <tr>\n",
              "      <th>118</th>\n",
              "      <td>False</td>\n",
              "      <td>False</td>\n",
              "      <td>False</td>\n",
              "      <td>False</td>\n",
              "      <td>False</td>\n",
              "      <td>False</td>\n",
              "      <td>False</td>\n",
              "      <td>False</td>\n",
              "      <td>False</td>\n",
              "      <td>False</td>\n",
              "      <td>False</td>\n",
              "    </tr>\n",
              "    <tr>\n",
              "      <th>119</th>\n",
              "      <td>False</td>\n",
              "      <td>False</td>\n",
              "      <td>False</td>\n",
              "      <td>False</td>\n",
              "      <td>False</td>\n",
              "      <td>False</td>\n",
              "      <td>False</td>\n",
              "      <td>False</td>\n",
              "      <td>False</td>\n",
              "      <td>False</td>\n",
              "      <td>False</td>\n",
              "    </tr>\n",
              "    <tr>\n",
              "      <th>120</th>\n",
              "      <td>False</td>\n",
              "      <td>False</td>\n",
              "      <td>False</td>\n",
              "      <td>False</td>\n",
              "      <td>False</td>\n",
              "      <td>False</td>\n",
              "      <td>False</td>\n",
              "      <td>False</td>\n",
              "      <td>False</td>\n",
              "      <td>False</td>\n",
              "      <td>False</td>\n",
              "    </tr>\n",
              "  </tbody>\n",
              "</table>\n",
              "<p>121 rows × 11 columns</p>\n",
              "</div>"
            ],
            "text/plain": [
              "     Unnamed: 0    oil  inter   oecd  ...  popgrowth  invest  school  literacy60\n",
              "0         False  False  False  False  ...      False   False   False       False\n",
              "1         False  False  False  False  ...      False   False   False       False\n",
              "2         False  False  False  False  ...      False   False   False       False\n",
              "3         False  False  False  False  ...      False   False   False        True\n",
              "4         False  False  False  False  ...      False   False   False       False\n",
              "..          ...    ...    ...    ...  ...        ...     ...     ...         ...\n",
              "116       False  False  False  False  ...      False   False   False       False\n",
              "117       False  False  False  False  ...       True   False   False        True\n",
              "118       False  False  False  False  ...      False   False   False       False\n",
              "119       False  False  False  False  ...      False   False   False       False\n",
              "120       False  False  False  False  ...      False   False   False       False\n",
              "\n",
              "[121 rows x 11 columns]"
            ]
          },
          "metadata": {
            "tags": []
          },
          "execution_count": 13
        }
      ]
    },
    {
      "cell_type": "markdown",
      "metadata": {
        "id": "_7yPHtheu5iv"
      },
      "source": [
        "#### We in the end drop the rows with missing values..."
      ]
    },
    {
      "cell_type": "code",
      "metadata": {
        "id": "R0AndpvEklNp",
        "outputId": "78573696-dbb8-4ef0-8e78-a92725891371",
        "colab": {
          "base_uri": "https://localhost:8080/",
          "height": 407
        }
      },
      "source": [
        "data_df.dropna()"
      ],
      "execution_count": 14,
      "outputs": [
        {
          "output_type": "execute_result",
          "data": {
            "text/html": [
              "<div>\n",
              "<style scoped>\n",
              "    .dataframe tbody tr th:only-of-type {\n",
              "        vertical-align: middle;\n",
              "    }\n",
              "\n",
              "    .dataframe tbody tr th {\n",
              "        vertical-align: top;\n",
              "    }\n",
              "\n",
              "    .dataframe thead th {\n",
              "        text-align: right;\n",
              "    }\n",
              "</style>\n",
              "<table border=\"1\" class=\"dataframe\">\n",
              "  <thead>\n",
              "    <tr style=\"text-align: right;\">\n",
              "      <th></th>\n",
              "      <th>Unnamed: 0</th>\n",
              "      <th>oil</th>\n",
              "      <th>inter</th>\n",
              "      <th>oecd</th>\n",
              "      <th>gdp60</th>\n",
              "      <th>gdp85</th>\n",
              "      <th>gdpgrowth</th>\n",
              "      <th>popgrowth</th>\n",
              "      <th>invest</th>\n",
              "      <th>school</th>\n",
              "      <th>literacy60</th>\n",
              "    </tr>\n",
              "  </thead>\n",
              "  <tbody>\n",
              "    <tr>\n",
              "      <th>0</th>\n",
              "      <td>1</td>\n",
              "      <td>no</td>\n",
              "      <td>yes</td>\n",
              "      <td>no</td>\n",
              "      <td>2485.0</td>\n",
              "      <td>4371.0</td>\n",
              "      <td>4.8</td>\n",
              "      <td>2.6</td>\n",
              "      <td>24.1</td>\n",
              "      <td>4.5</td>\n",
              "      <td>10.0</td>\n",
              "    </tr>\n",
              "    <tr>\n",
              "      <th>1</th>\n",
              "      <td>2</td>\n",
              "      <td>no</td>\n",
              "      <td>no</td>\n",
              "      <td>no</td>\n",
              "      <td>1588.0</td>\n",
              "      <td>1171.0</td>\n",
              "      <td>0.8</td>\n",
              "      <td>2.1</td>\n",
              "      <td>5.8</td>\n",
              "      <td>1.8</td>\n",
              "      <td>5.0</td>\n",
              "    </tr>\n",
              "    <tr>\n",
              "      <th>2</th>\n",
              "      <td>3</td>\n",
              "      <td>no</td>\n",
              "      <td>no</td>\n",
              "      <td>no</td>\n",
              "      <td>1116.0</td>\n",
              "      <td>1071.0</td>\n",
              "      <td>2.2</td>\n",
              "      <td>2.4</td>\n",
              "      <td>10.8</td>\n",
              "      <td>1.8</td>\n",
              "      <td>5.0</td>\n",
              "    </tr>\n",
              "    <tr>\n",
              "      <th>4</th>\n",
              "      <td>5</td>\n",
              "      <td>no</td>\n",
              "      <td>no</td>\n",
              "      <td>no</td>\n",
              "      <td>529.0</td>\n",
              "      <td>857.0</td>\n",
              "      <td>2.9</td>\n",
              "      <td>0.9</td>\n",
              "      <td>12.7</td>\n",
              "      <td>0.4</td>\n",
              "      <td>2.0</td>\n",
              "    </tr>\n",
              "    <tr>\n",
              "      <th>5</th>\n",
              "      <td>6</td>\n",
              "      <td>no</td>\n",
              "      <td>no</td>\n",
              "      <td>no</td>\n",
              "      <td>755.0</td>\n",
              "      <td>663.0</td>\n",
              "      <td>1.2</td>\n",
              "      <td>1.7</td>\n",
              "      <td>5.1</td>\n",
              "      <td>0.4</td>\n",
              "      <td>14.0</td>\n",
              "    </tr>\n",
              "    <tr>\n",
              "      <th>...</th>\n",
              "      <td>...</td>\n",
              "      <td>...</td>\n",
              "      <td>...</td>\n",
              "      <td>...</td>\n",
              "      <td>...</td>\n",
              "      <td>...</td>\n",
              "      <td>...</td>\n",
              "      <td>...</td>\n",
              "      <td>...</td>\n",
              "      <td>...</td>\n",
              "      <td>...</td>\n",
              "    </tr>\n",
              "    <tr>\n",
              "      <th>115</th>\n",
              "      <td>116</td>\n",
              "      <td>no</td>\n",
              "      <td>yes</td>\n",
              "      <td>no</td>\n",
              "      <td>10367.0</td>\n",
              "      <td>6336.0</td>\n",
              "      <td>1.9</td>\n",
              "      <td>3.8</td>\n",
              "      <td>11.4</td>\n",
              "      <td>7.0</td>\n",
              "      <td>63.0</td>\n",
              "    </tr>\n",
              "    <tr>\n",
              "      <th>116</th>\n",
              "      <td>117</td>\n",
              "      <td>no</td>\n",
              "      <td>yes</td>\n",
              "      <td>yes</td>\n",
              "      <td>8440.0</td>\n",
              "      <td>13409.0</td>\n",
              "      <td>3.8</td>\n",
              "      <td>2.0</td>\n",
              "      <td>31.5</td>\n",
              "      <td>9.8</td>\n",
              "      <td>100.0</td>\n",
              "    </tr>\n",
              "    <tr>\n",
              "      <th>118</th>\n",
              "      <td>119</td>\n",
              "      <td>no</td>\n",
              "      <td>yes</td>\n",
              "      <td>no</td>\n",
              "      <td>879.0</td>\n",
              "      <td>2159.0</td>\n",
              "      <td>5.5</td>\n",
              "      <td>1.9</td>\n",
              "      <td>13.9</td>\n",
              "      <td>4.1</td>\n",
              "      <td>39.0</td>\n",
              "    </tr>\n",
              "    <tr>\n",
              "      <th>119</th>\n",
              "      <td>120</td>\n",
              "      <td>no</td>\n",
              "      <td>yes</td>\n",
              "      <td>yes</td>\n",
              "      <td>9523.0</td>\n",
              "      <td>12308.0</td>\n",
              "      <td>2.7</td>\n",
              "      <td>1.7</td>\n",
              "      <td>22.5</td>\n",
              "      <td>11.9</td>\n",
              "      <td>99.0</td>\n",
              "    </tr>\n",
              "    <tr>\n",
              "      <th>120</th>\n",
              "      <td>121</td>\n",
              "      <td>no</td>\n",
              "      <td>no</td>\n",
              "      <td>no</td>\n",
              "      <td>1781.0</td>\n",
              "      <td>2544.0</td>\n",
              "      <td>3.5</td>\n",
              "      <td>2.1</td>\n",
              "      <td>16.2</td>\n",
              "      <td>1.5</td>\n",
              "      <td>29.0</td>\n",
              "    </tr>\n",
              "  </tbody>\n",
              "</table>\n",
              "<p>100 rows × 11 columns</p>\n",
              "</div>"
            ],
            "text/plain": [
              "     Unnamed: 0 oil inter oecd  ...  popgrowth  invest  school  literacy60\n",
              "0             1  no   yes   no  ...        2.6    24.1     4.5        10.0\n",
              "1             2  no    no   no  ...        2.1     5.8     1.8         5.0\n",
              "2             3  no    no   no  ...        2.4    10.8     1.8         5.0\n",
              "4             5  no    no   no  ...        0.9    12.7     0.4         2.0\n",
              "5             6  no    no   no  ...        1.7     5.1     0.4        14.0\n",
              "..          ...  ..   ...  ...  ...        ...     ...     ...         ...\n",
              "115         116  no   yes   no  ...        3.8    11.4     7.0        63.0\n",
              "116         117  no   yes  yes  ...        2.0    31.5     9.8       100.0\n",
              "118         119  no   yes   no  ...        1.9    13.9     4.1        39.0\n",
              "119         120  no   yes  yes  ...        1.7    22.5    11.9        99.0\n",
              "120         121  no    no   no  ...        2.1    16.2     1.5        29.0\n",
              "\n",
              "[100 rows x 11 columns]"
            ]
          },
          "metadata": {
            "tags": []
          },
          "execution_count": 14
        }
      ]
    },
    {
      "cell_type": "markdown",
      "metadata": {
        "id": "8jQe_Bujv8Jd"
      },
      "source": [
        "# Data Subsetting\n",
        "\n",
        "Try craeting following datasets\n",
        "\n",
        "- OECD countries\n",
        "- Countries with a literacy rate better than average \n",
        " "
      ]
    },
    {
      "cell_type": "code",
      "metadata": {
        "id": "A2yHmlavknAm"
      },
      "source": [
        "oecd = data_df[data_df.oecd == 'yes']\n",
        "mean_literacy = data_df['literacy60'].mean()\n",
        "literate_countries = data_df[data_df.literacy60 > mean_literacy]"
      ],
      "execution_count": 24,
      "outputs": []
    },
    {
      "cell_type": "markdown",
      "metadata": {
        "id": "ot2YTr6nvqrL"
      },
      "source": [
        "# Data Exploration"
      ]
    },
    {
      "cell_type": "markdown",
      "metadata": {
        "id": "rGOFp_39vSFy"
      },
      "source": [
        "#### Calculate the mean and standard deviation of the `gdpgrowth`"
      ]
    },
    {
      "cell_type": "code",
      "metadata": {
        "id": "xzPSGjZCkoLF"
      },
      "source": [
        "gdpgrowth_mean = data_df['gdpgrowth'].mean()\n"
      ],
      "execution_count": 29,
      "outputs": []
    },
    {
      "cell_type": "code",
      "metadata": {
        "id": "wyGZwQmzSxNT"
      },
      "source": [
        "gdpgrowth_std = data_df['gdpgrowth'].std()"
      ],
      "execution_count": 28,
      "outputs": []
    },
    {
      "cell_type": "markdown",
      "metadata": {
        "id": "hHLPb-uIwRYO"
      },
      "source": [
        "#### Run `.describe()` to see the data description"
      ]
    },
    {
      "cell_type": "code",
      "metadata": {
        "id": "aqzYriFzkpU3",
        "outputId": "97d8b72f-d692-4391-e08e-770bf2df1fd3",
        "colab": {
          "base_uri": "https://localhost:8080/",
          "height": 288
        }
      },
      "source": [
        "data_df.describe()"
      ],
      "execution_count": 30,
      "outputs": [
        {
          "output_type": "execute_result",
          "data": {
            "text/html": [
              "<div>\n",
              "<style scoped>\n",
              "    .dataframe tbody tr th:only-of-type {\n",
              "        vertical-align: middle;\n",
              "    }\n",
              "\n",
              "    .dataframe tbody tr th {\n",
              "        vertical-align: top;\n",
              "    }\n",
              "\n",
              "    .dataframe thead th {\n",
              "        text-align: right;\n",
              "    }\n",
              "</style>\n",
              "<table border=\"1\" class=\"dataframe\">\n",
              "  <thead>\n",
              "    <tr style=\"text-align: right;\">\n",
              "      <th></th>\n",
              "      <th>Unnamed: 0</th>\n",
              "      <th>gdp60</th>\n",
              "      <th>gdp85</th>\n",
              "      <th>gdpgrowth</th>\n",
              "      <th>popgrowth</th>\n",
              "      <th>invest</th>\n",
              "      <th>school</th>\n",
              "      <th>literacy60</th>\n",
              "    </tr>\n",
              "  </thead>\n",
              "  <tbody>\n",
              "    <tr>\n",
              "      <th>count</th>\n",
              "      <td>121.000000</td>\n",
              "      <td>116.000000</td>\n",
              "      <td>108.000000</td>\n",
              "      <td>117.000000</td>\n",
              "      <td>107.000000</td>\n",
              "      <td>121.000000</td>\n",
              "      <td>118.000000</td>\n",
              "      <td>103.000000</td>\n",
              "    </tr>\n",
              "    <tr>\n",
              "      <th>mean</th>\n",
              "      <td>61.000000</td>\n",
              "      <td>3681.818966</td>\n",
              "      <td>5683.259259</td>\n",
              "      <td>4.094017</td>\n",
              "      <td>2.279439</td>\n",
              "      <td>18.157025</td>\n",
              "      <td>5.526271</td>\n",
              "      <td>48.165049</td>\n",
              "    </tr>\n",
              "    <tr>\n",
              "      <th>std</th>\n",
              "      <td>35.073732</td>\n",
              "      <td>7492.877637</td>\n",
              "      <td>5688.670819</td>\n",
              "      <td>1.891464</td>\n",
              "      <td>0.998748</td>\n",
              "      <td>7.853310</td>\n",
              "      <td>3.532037</td>\n",
              "      <td>35.354257</td>\n",
              "    </tr>\n",
              "    <tr>\n",
              "      <th>min</th>\n",
              "      <td>1.000000</td>\n",
              "      <td>383.000000</td>\n",
              "      <td>412.000000</td>\n",
              "      <td>-0.900000</td>\n",
              "      <td>0.300000</td>\n",
              "      <td>4.100000</td>\n",
              "      <td>0.400000</td>\n",
              "      <td>1.000000</td>\n",
              "    </tr>\n",
              "    <tr>\n",
              "      <th>25%</th>\n",
              "      <td>31.000000</td>\n",
              "      <td>973.250000</td>\n",
              "      <td>1209.250000</td>\n",
              "      <td>2.800000</td>\n",
              "      <td>1.700000</td>\n",
              "      <td>12.000000</td>\n",
              "      <td>2.400000</td>\n",
              "      <td>15.000000</td>\n",
              "    </tr>\n",
              "    <tr>\n",
              "      <th>50%</th>\n",
              "      <td>61.000000</td>\n",
              "      <td>1962.000000</td>\n",
              "      <td>3484.500000</td>\n",
              "      <td>3.900000</td>\n",
              "      <td>2.400000</td>\n",
              "      <td>17.700000</td>\n",
              "      <td>4.950000</td>\n",
              "      <td>39.000000</td>\n",
              "    </tr>\n",
              "    <tr>\n",
              "      <th>75%</th>\n",
              "      <td>91.000000</td>\n",
              "      <td>4274.500000</td>\n",
              "      <td>7718.750000</td>\n",
              "      <td>5.300000</td>\n",
              "      <td>2.900000</td>\n",
              "      <td>24.100000</td>\n",
              "      <td>8.175000</td>\n",
              "      <td>83.500000</td>\n",
              "    </tr>\n",
              "    <tr>\n",
              "      <th>max</th>\n",
              "      <td>121.000000</td>\n",
              "      <td>77881.000000</td>\n",
              "      <td>25635.000000</td>\n",
              "      <td>9.200000</td>\n",
              "      <td>6.800000</td>\n",
              "      <td>36.900000</td>\n",
              "      <td>12.100000</td>\n",
              "      <td>100.000000</td>\n",
              "    </tr>\n",
              "  </tbody>\n",
              "</table>\n",
              "</div>"
            ],
            "text/plain": [
              "       Unnamed: 0         gdp60  ...      school  literacy60\n",
              "count  121.000000    116.000000  ...  118.000000  103.000000\n",
              "mean    61.000000   3681.818966  ...    5.526271   48.165049\n",
              "std     35.073732   7492.877637  ...    3.532037   35.354257\n",
              "min      1.000000    383.000000  ...    0.400000    1.000000\n",
              "25%     31.000000    973.250000  ...    2.400000   15.000000\n",
              "50%     61.000000   1962.000000  ...    4.950000   39.000000\n",
              "75%     91.000000   4274.500000  ...    8.175000   83.500000\n",
              "max    121.000000  77881.000000  ...   12.100000  100.000000\n",
              "\n",
              "[8 rows x 8 columns]"
            ]
          },
          "metadata": {
            "tags": []
          },
          "execution_count": 30
        }
      ]
    },
    {
      "cell_type": "markdown",
      "metadata": {
        "id": "J9-25wbvvpe_"
      },
      "source": [
        "#### Calculate the group averages\n",
        "\n",
        "- For each categorical variables (`oil`, `inter`, `oecd`), calcurate the mean of `gdpgrowth`"
      ]
    },
    {
      "cell_type": "code",
      "metadata": {
        "id": "BoJ_7UADkqdJ"
      },
      "source": [
        "oil_gdpgrowth = data_df.groupby(['oil', 'gdpgrowth']).mean()\n",
        "inter_gdpgrowth = data_df.groupby(['inter', 'gdpgrowth']).mean()\n",
        "oecd_gdpgrowth = data_df.groupby(['oecd', 'gdpgrowth']).mean()"
      ],
      "execution_count": 49,
      "outputs": []
    },
    {
      "cell_type": "markdown",
      "metadata": {
        "id": "fHCDf2WfvCm3"
      },
      "source": [
        "#### Calculate the correlation between `gdpgrowth` and possible explanatory variables"
      ]
    },
    {
      "cell_type": "code",
      "metadata": {
        "id": "Ec8WMNsXkrLH",
        "outputId": "61ef0287-5b93-4ab9-f186-2c325d78f924",
        "colab": {
          "base_uri": "https://localhost:8080/",
          "height": 288
        }
      },
      "source": [
        "data_df.corr()"
      ],
      "execution_count": 55,
      "outputs": [
        {
          "output_type": "execute_result",
          "data": {
            "text/html": [
              "<div>\n",
              "<style scoped>\n",
              "    .dataframe tbody tr th:only-of-type {\n",
              "        vertical-align: middle;\n",
              "    }\n",
              "\n",
              "    .dataframe tbody tr th {\n",
              "        vertical-align: top;\n",
              "    }\n",
              "\n",
              "    .dataframe thead th {\n",
              "        text-align: right;\n",
              "    }\n",
              "</style>\n",
              "<table border=\"1\" class=\"dataframe\">\n",
              "  <thead>\n",
              "    <tr style=\"text-align: right;\">\n",
              "      <th></th>\n",
              "      <th>Unnamed: 0</th>\n",
              "      <th>gdp60</th>\n",
              "      <th>gdp85</th>\n",
              "      <th>gdpgrowth</th>\n",
              "      <th>popgrowth</th>\n",
              "      <th>invest</th>\n",
              "      <th>school</th>\n",
              "      <th>literacy60</th>\n",
              "    </tr>\n",
              "  </thead>\n",
              "  <tbody>\n",
              "    <tr>\n",
              "      <th>Unnamed: 0</th>\n",
              "      <td>1.000000</td>\n",
              "      <td>0.191958</td>\n",
              "      <td>0.415553</td>\n",
              "      <td>0.024615</td>\n",
              "      <td>-0.125694</td>\n",
              "      <td>0.328623</td>\n",
              "      <td>0.564927</td>\n",
              "      <td>0.691590</td>\n",
              "    </tr>\n",
              "    <tr>\n",
              "      <th>gdp60</th>\n",
              "      <td>0.191958</td>\n",
              "      <td>1.000000</td>\n",
              "      <td>0.630505</td>\n",
              "      <td>-0.122174</td>\n",
              "      <td>0.291304</td>\n",
              "      <td>0.091031</td>\n",
              "      <td>0.337358</td>\n",
              "      <td>0.257476</td>\n",
              "    </tr>\n",
              "    <tr>\n",
              "      <th>gdp85</th>\n",
              "      <td>0.415553</td>\n",
              "      <td>0.630505</td>\n",
              "      <td>1.000000</td>\n",
              "      <td>0.139063</td>\n",
              "      <td>-0.222036</td>\n",
              "      <td>0.580661</td>\n",
              "      <td>0.697297</td>\n",
              "      <td>0.729110</td>\n",
              "    </tr>\n",
              "    <tr>\n",
              "      <th>gdpgrowth</th>\n",
              "      <td>0.024615</td>\n",
              "      <td>-0.122174</td>\n",
              "      <td>0.139063</td>\n",
              "      <td>1.000000</td>\n",
              "      <td>0.242443</td>\n",
              "      <td>0.350510</td>\n",
              "      <td>0.197995</td>\n",
              "      <td>0.160969</td>\n",
              "    </tr>\n",
              "    <tr>\n",
              "      <th>popgrowth</th>\n",
              "      <td>-0.125694</td>\n",
              "      <td>0.291304</td>\n",
              "      <td>-0.222036</td>\n",
              "      <td>0.242443</td>\n",
              "      <td>1.000000</td>\n",
              "      <td>-0.331930</td>\n",
              "      <td>-0.212766</td>\n",
              "      <td>-0.414744</td>\n",
              "    </tr>\n",
              "    <tr>\n",
              "      <th>invest</th>\n",
              "      <td>0.328623</td>\n",
              "      <td>0.091031</td>\n",
              "      <td>0.580661</td>\n",
              "      <td>0.350510</td>\n",
              "      <td>-0.331930</td>\n",
              "      <td>1.000000</td>\n",
              "      <td>0.622444</td>\n",
              "      <td>0.639264</td>\n",
              "    </tr>\n",
              "    <tr>\n",
              "      <th>school</th>\n",
              "      <td>0.564927</td>\n",
              "      <td>0.337358</td>\n",
              "      <td>0.697297</td>\n",
              "      <td>0.197995</td>\n",
              "      <td>-0.212766</td>\n",
              "      <td>0.622444</td>\n",
              "      <td>1.000000</td>\n",
              "      <td>0.818405</td>\n",
              "    </tr>\n",
              "    <tr>\n",
              "      <th>literacy60</th>\n",
              "      <td>0.691590</td>\n",
              "      <td>0.257476</td>\n",
              "      <td>0.729110</td>\n",
              "      <td>0.160969</td>\n",
              "      <td>-0.414744</td>\n",
              "      <td>0.639264</td>\n",
              "      <td>0.818405</td>\n",
              "      <td>1.000000</td>\n",
              "    </tr>\n",
              "  </tbody>\n",
              "</table>\n",
              "</div>"
            ],
            "text/plain": [
              "            Unnamed: 0     gdp60     gdp85  ...    invest    school  literacy60\n",
              "Unnamed: 0    1.000000  0.191958  0.415553  ...  0.328623  0.564927    0.691590\n",
              "gdp60         0.191958  1.000000  0.630505  ...  0.091031  0.337358    0.257476\n",
              "gdp85         0.415553  0.630505  1.000000  ...  0.580661  0.697297    0.729110\n",
              "gdpgrowth     0.024615 -0.122174  0.139063  ...  0.350510  0.197995    0.160969\n",
              "popgrowth    -0.125694  0.291304 -0.222036  ... -0.331930 -0.212766   -0.414744\n",
              "invest        0.328623  0.091031  0.580661  ...  1.000000  0.622444    0.639264\n",
              "school        0.564927  0.337358  0.697297  ...  0.622444  1.000000    0.818405\n",
              "literacy60    0.691590  0.257476  0.729110  ...  0.639264  0.818405    1.000000\n",
              "\n",
              "[8 rows x 8 columns]"
            ]
          },
          "metadata": {
            "tags": []
          },
          "execution_count": 55
        }
      ]
    }
  ]
}